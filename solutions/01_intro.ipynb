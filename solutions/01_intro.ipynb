{
 "cells": [
  {
   "cell_type": "markdown",
   "metadata": {},
   "source": [
    "### <span style=\"color:green\"> Exercise: Creator </span>\n",
    "\n",
    "Complete the code below to print the creator of each item.\n",
    "You will need to browse the [data](https://api.nb.no/catalog/v1/items?digitalAccessibleOnly=true&size=3&filter=mediatype:bøker&q=Bing,Jon).\n",
    "\n",
    "This exercise is a bit vague. The `creators` field has a list containing one or more creators.\n",
    "Should we print the list, which includes Python syntax, or make it human readable?\n",
    "If we encounter such vague specifications when programming, we must *stop* and clarify them before continuing. IT projects often go awry because of vague or incorrect specifications."
   ]
  },
  {
   "cell_type": "code",
   "execution_count": null,
   "metadata": {
    "scrolled": true
   },
   "outputs": [],
   "source": [
    "import requests\n",
    "import json\n",
    "\n",
    "URL = \"https://api.nb.no/catalog/v1/items?digitalAccessibleOnly=true&size=3&filter=mediatype:bøker&q=Bing,Jon\"\n",
    "data = requests.get(URL).json()\n",
    "embedded = data['_embedded']\n",
    "items = embedded['items']\n",
    "\n",
    "for item in items:\n",
    "    metadata = item['metadata']\n",
    "    print(\"Item title:\", metadata['title'])\n",
    "    creators = metadata['creators']\n",
    "    \n",
    "    # version 1, print the list\n",
    "    print('Creators:', creators)\n",
    "    \n",
    "    # version 2, looping over the list\n",
    "    for creator in creators:\n",
    "        print('Creator:', creator)\n",
    "    \n",
    "    print() # insert empty line"
   ]
  },
  {
   "cell_type": "markdown",
   "metadata": {
    "collapsed": true
   },
   "source": [
    "###  <span style=\"color:green\"> Exercise: Presentation and URN </span>\n",
    "\n",
    "The field `presentation` contains a link to the full text.\n",
    "Complete the code below to print the `presentation` URL and the 'URN' of each item.\n",
    "\n",
    "You will need to browse the [data](https://api.nb.no/catalog/v1/items?digitalAccessibleOnly=true&size=3&filter=mediatype:bøker&q=Bing,Jon).\n",
    "\n",
    "The `presentation` URL is located below `_links`, while the `urn` is in `metadata`."
   ]
  },
  {
   "cell_type": "code",
   "execution_count": null,
   "metadata": {},
   "outputs": [],
   "source": [
    "import requests\n",
    "import json\n",
    "\n",
    "URL = \"https://api.nb.no/catalog/v1/items?digitalAccessibleOnly=true&size=3&filter=mediatype:bøker&q=Bing,Jon\"\n",
    "data = requests.get(URL).json()\n",
    "embedded = data['_embedded']\n",
    "items = embedded['items']\n",
    "\n",
    "for item in items:\n",
    "    metadata = item['metadata']\n",
    "    print(\"Item title:\", metadata['title'])\n",
    "    links = item['_links']\n",
    "    presentation = links['presentation']\n",
    "    href = presentation['href']\n",
    "    print(\"Presentation URL:\", href)\n",
    "\n",
    "    identifiers = metadata['identifiers']\n",
    "    urn = identifiers['urn']\n",
    "    print(urn)\n",
    "\n",
    "    print()"
   ]
  }
 ],
 "metadata": {
  "kernelspec": {
   "display_name": "Python 3",
   "language": "python",
   "name": "python3"
  },
  "language_info": {
   "codemirror_mode": {
    "name": "ipython",
    "version": 3
   },
   "file_extension": ".py",
   "mimetype": "text/x-python",
   "name": "python",
   "nbconvert_exporter": "python",
   "pygments_lexer": "ipython3",
   "version": "3.7.7"
  }
 },
 "nbformat": 4,
 "nbformat_minor": 2
}
